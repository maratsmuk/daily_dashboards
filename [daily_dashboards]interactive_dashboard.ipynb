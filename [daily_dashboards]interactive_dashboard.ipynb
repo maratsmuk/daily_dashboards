{
  "nbformat": 4,
  "nbformat_minor": 0,
  "metadata": {
    "colab": {
      "name": "[daily_dashboards]interactive_dashboard.ipynb",
      "provenance": [],
      "collapsed_sections": [],
      "authorship_tag": "ABX9TyNK2AQp49yZk9QAAG5b6vhJ",
      "include_colab_link": true
    },
    "kernelspec": {
      "name": "python3",
      "display_name": "Python 3"
    },
    "language_info": {
      "name": "python"
    }
  },
  "cells": [
    {
      "cell_type": "markdown",
      "metadata": {
        "id": "view-in-github",
        "colab_type": "text"
      },
      "source": [
        "<a href=\"https://colab.research.google.com/github/maratsmuk/daily_dashboards/blob/main/%5Bdaily_dashboards%5Dinteractive_dashboard.ipynb\" target=\"_parent\"><img src=\"https://colab.research.google.com/assets/colab-badge.svg\" alt=\"Open In Colab\"/></a>"
      ]
    },
    {
      "cell_type": "markdown",
      "metadata": {
        "id": "YKrk5z_ghv54"
      },
      "source": [
        "# Daily dashboards\n",
        "## Created by M.S. Mukhametzhanov\n",
        "### An interactive public dashboard is created on datapane.com: https://datapane.com/u/maratsmuk/reports/VkGygN3/daily-dashboards/\n",
        "### Input: database with the following tables: \n",
        "1. Accounts(id UNSIGNED INT PK, open_dt DATE NOT NULL, close_dt DATE NOT NULL)\n",
        "2. Dates(dt DATE PK)\n",
        "3. Transactions(id UNSIGNED INT PK, account_id UNSIGNED INT NOT NULL, dttm DATETIME NOT NULL, amt FLOAT)\n"
      ]
    },
    {
      "cell_type": "markdown",
      "metadata": {
        "id": "zDZltNXWiYcw"
      },
      "source": [
        "Connection to the database:"
      ]
    },
    {
      "cell_type": "code",
      "metadata": {
        "colab": {
          "base_uri": "https://localhost:8080/"
        },
        "id": "eTPOuKoeLBfE",
        "outputId": "dc76cb07-cca8-4fd2-b782-944921eca962"
      },
      "source": [
        "from google.colab import drive\n",
        "drive.mount('/content/drive')\n",
        "!ls drive/MyDrive/daily_dashboards\n",
        "mydb = 'drive/MyDrive/daily_dashboards/DB_accounts.db'"
      ],
      "execution_count": 1,
      "outputs": [
        {
          "output_type": "stream",
          "name": "stdout",
          "text": [
            "Drive already mounted at /content/drive; to attempt to forcibly remount, call drive.mount(\"/content/drive\", force_remount=True).\n",
            " accounts.csv\t\t\t\t\t  DB_accounts.db\n",
            "'[daily_dashboards]db_generation.ipynb'\t\t  psw_datapane.txt\n",
            "'[daily_dashboards]interactive_dashboard.ipynb'   transactions.csv\n",
            " dates.csv\n"
          ]
        }
      ]
    },
    {
      "cell_type": "markdown",
      "metadata": {
        "id": "KjqZ4ZlqihYx"
      },
      "source": [
        "Importing necessary libraries: \n",
        "- sqlite3 for accessing the database\n",
        "- pandas for working with the resulting dataframes\n",
        "- datetime, numpy for working with the respective standard data types\n",
        "- datapane is the main library for creating the interactive dashboard\n",
        "- matplotlib and plotly for creating the graphs\n",
        "- json for connecting to the datapane account"
      ]
    },
    {
      "cell_type": "code",
      "metadata": {
        "id": "pwQzx7EtJ1Jy"
      },
      "source": [
        "import sqlite3\n",
        "import pandas as pd\n",
        "import datetime\n",
        "import numpy as np\n",
        "try:\n",
        "  import datapane as dp\n",
        "except:\n",
        "  !pip install datapane\n",
        "  import datapane as dp\n",
        "import matplotlib.pyplot as plt\n",
        "import plotly.graph_objs as go\n",
        "import json"
      ],
      "execution_count": 32,
      "outputs": []
    },
    {
      "cell_type": "markdown",
      "metadata": {
        "id": "lHfrs_tKjFIb"
      },
      "source": [
        "Connect to the account on https://datapane.com/:"
      ]
    },
    {
      "cell_type": "code",
      "metadata": {
        "colab": {
          "base_uri": "https://localhost:8080/"
        },
        "id": "f5ut64bb81PU",
        "outputId": "8c4df024-58b7-4b38-b5e8-8b963938bd2b"
      },
      "source": [
        "with open('drive/MyDrive/daily_dashboards/psw_datapane.txt','r') as f:\n",
        "    data = f.read()\n",
        "    js = json.loads(data)\n",
        "    dp.login(js['token'])"
      ],
      "execution_count": 33,
      "outputs": [
        {
          "output_type": "stream",
          "name": "stdout",
          "text": [
            "\u001b[32mConnected successfully to https://datapane.com as maratsmuk\u001b[0m\n"
          ]
        }
      ]
    },
    {
      "cell_type": "markdown",
      "metadata": {
        "id": "a2YYC2eejOZl"
      },
      "source": [
        "Test the connection to the database and check its format (correct the queries if it is necessary, e.g., if the format of the data is different or ids are not integer):"
      ]
    },
    {
      "cell_type": "code",
      "metadata": {
        "colab": {
          "base_uri": "https://localhost:8080/"
        },
        "id": "kxiNWOMWKzvZ",
        "outputId": "670fa7fe-cfea-406c-c43c-a5595b7450a4"
      },
      "source": [
        "db_connection = sqlite3.connect(mydb)\n",
        "cursor = db_connection.cursor()\n",
        "cursor.execute('''select * from accounts limit 5''')\n",
        "print(cursor.fetchall())\n",
        "cursor.execute('''select * from dates limit 5''')\n",
        "print(cursor.fetchall())\n",
        "cursor.execute('''select * from transactions limit 5''')\n",
        "print(cursor.fetchall())\n",
        "cursor.close()\n",
        "db_connection.close()\n"
      ],
      "execution_count": 34,
      "outputs": [
        {
          "output_type": "stream",
          "name": "stdout",
          "text": [
            "[(1, '2015-03-16', '2016-10-05'), (2, '2021-05-16', '2021-08-19'), (3, '2017-07-22', '2018-09-30'), (4, '2013-08-25', '2019-10-31'), (5, '2015-01-21', '2016-05-11')]\n",
            "[('2010-01-01',), ('2010-01-02',), ('2010-01-03',), ('2010-01-04',), ('2010-01-05',)]\n",
            "[(1, 13, '2010-02-02 00:00:00', 0.0), (2, 23, '2010-02-07 00:00:00', 0.0), (3, 33, '2010-02-23 00:00:00', 0.0), (4, 13, '2010-02-25 18:49:07', 116.23), (5, 33, '2010-02-26 12:29:28', -805.5)]\n"
          ]
        }
      ]
    },
    {
      "cell_type": "markdown",
      "metadata": {
        "id": "bFqFrEOYjhSI"
      },
      "source": [
        "Main functions for creating the resulting dashboards as pandas dataframes: \n",
        "- generate_account_history reads the data from the database\n",
        "- generate_dashboard_account creates the pandas dataframe of daily balances for each account\n",
        "- generate_plot and generate_plot_go create the graph objects for the plots (the latter is used)\n"
      ]
    },
    {
      "cell_type": "code",
      "metadata": {
        "id": "EFHe7XoBNJsa"
      },
      "source": [
        "def generate_account_history(acc_id,con):\n",
        "  query = '''SELECT date(dttm) as dt, sum(amt) as amt from (SELECT * from transactions where account_id == {acc}) as table_acc group by dt'''.format(acc=acc_id)\n",
        "  df_account = pd.read_sql_query(query,con)\n",
        "  cursor = con.cursor()\n",
        "  cursor.execute('''select open_dt,close_dt from accounts where id=={acc}'''.format(acc=acc_id))\n",
        "  dates_account = cursor.fetchall()\n",
        "  cursor.close()\n",
        "  return df_account,dates_account\n",
        "def generate_dashboard_account(acc_id,con):\n",
        "  df_acc,dates_acc = generate_account_history(acc_id,con)\n",
        "  datenow = datetime.date.fromisoformat(dates_acc[0][1])\n",
        "  datenow = min(datenow,datetime.date.today()-datetime.timedelta(days=1))\n",
        "  start = datetime.date.fromisoformat(dates_acc[0][0])\n",
        "  account_history = pd.DataFrame(columns = ['dates','balance'])\n",
        "  account_history['dates'] = [start + datetime.timedelta(days=i) for i in range((datenow-start).days+1)]\n",
        "  currency_account = 0\n",
        "  idx_df = 0\n",
        "  for idx in account_history.index:\n",
        "    if idx_df<=df_acc.index.max() and datetime.date.fromisoformat(df_acc.iloc[idx_df,0])==account_history.iloc[idx,0]:\n",
        "      currency_account+= df_acc.iloc[idx_df,1] \n",
        "      idx_df+=1\n",
        "    account_history.at[idx,'balance'] = currency_account\n",
        "  return account_history\n",
        "def generate_plot(acc_id):\n",
        "  fig, ax = plt.subplots(figsize=(30,15))\n",
        "  ax.set_title('Balance: account '+str(acc_id),fontsize=30)\n",
        "  ax.plot(main_dash[acc_id]['dates'],main_dash[acc_id]['balance'],'r')\n",
        "  ax.tick_params(axis='x', which='both',labelsize = 20,rotation=90)\n",
        "  ax.tick_params(axis='y', which='major',labelsize = 20,rotation=0)\n",
        "  ax.legend(['Account '+str(acc_id)],fontsize=30)\n",
        "  ax.grid(True,which='both',axis='both')\n",
        "  ax.set_xlim([main_dash[acc_id]['dates'].min(),main_dash[acc_id]['dates'].max()])\n",
        "  start_date = main_dash[acc_id]['dates'][0]\n",
        "  xticks_values = []\n",
        "  if start_date.day>1:\n",
        "    xticks_values.append(start_date)\n",
        "  for dt in main_dash[acc_id]['dates']:\n",
        "    if dt.day==1:\n",
        "      xticks_values.append(dt)\n",
        "  end_date = main_dash[acc_id].iloc[-1,0]\n",
        "  if end_date.day>1:\n",
        "    xticks_values.append(end_date)\n",
        "  ax.set_xticks(xticks_values)\n",
        "  return fig\n",
        "def generate_plot_go(acc_id):\n",
        "  trace0 = go.Scatter(x=main_dash[acc_id]['dates'], y=main_dash[acc_id]['balance'], name='Balance: Account '+str(acc_id))\n",
        "  fig0 = go.Figure([trace0])\n",
        "  fig0.update_layout(\n",
        "      title={\n",
        "          'text': 'Daily balance: Account '+str(acc_id),\n",
        "          'x':0.5,\n",
        "          'xanchor': 'center'})\n",
        "  return fig0"
      ],
      "execution_count": 35,
      "outputs": []
    },
    {
      "cell_type": "markdown",
      "metadata": {
        "id": "m33IOwoMkFQW"
      },
      "source": [
        "Connect to the database, read the data and create the dashboard tables:"
      ]
    },
    {
      "cell_type": "code",
      "metadata": {
        "id": "ZzwDP1B8YDm3"
      },
      "source": [
        "db_connection = sqlite3.connect(mydb)\n",
        "cursor = db_connection.cursor()\n",
        "cursor.execute('''select distinct id from accounts''')\n",
        "account_ids = list(map(lambda t: t[0], cursor.fetchall()))\n",
        "cursor.close()\n",
        "main_dash = {}\n",
        "for acc_id in account_ids:\n",
        "  account_history = generate_dashboard_account(acc_id,db_connection)\n",
        "  main_dash[acc_id] = account_history\n",
        "db_connection.close()"
      ],
      "execution_count": 36,
      "outputs": []
    },
    {
      "cell_type": "markdown",
      "metadata": {
        "id": "JKzfuKnTkMfp"
      },
      "source": [
        "Create auxiliary dataframes reading the data from the database (only for visualization purposes: these data are not included in the daily balances, but it can be useful to show them on the dashboard):"
      ]
    },
    {
      "cell_type": "code",
      "metadata": {
        "id": "U9rYCveSMrn_"
      },
      "source": [
        "db_connection = sqlite3.connect(mydb)\n",
        "tables_transactions = {}\n",
        "for acc_id in main_dash:\n",
        "  tables_transactions[acc_id]=pd.read_sql_query('''SELECT * from transactions where account_id == {acc}'''.format(acc = acc_id),db_connection)\n",
        "df_accounts = pd.read_sql_query('''SELECT * from accounts''',db_connection)\n",
        "df_dates = pd.read_sql_query('''SELECT * from dates''',db_connection)\n",
        "df_transactions = pd.read_sql_query('''SELECT * from transactions''',db_connection)\n",
        "db_connection.close()\n",
        "#df_accounts.set_index('id',inplace=True)\n",
        "#df_dates.set_index('dt',inplace=True)\n",
        "#df_transactions.set_index('id',inplace=True)"
      ],
      "execution_count": 37,
      "outputs": []
    },
    {
      "cell_type": "markdown",
      "metadata": {
        "id": "rinEEfS5ki9N"
      },
      "source": [
        "Create the interactive dashboard using the tables constructed so far (auxiliary functions check_closed and build_table_list are used only to improve the readability of the code). The transactions data is limited to the last 100 transactions only to guarantee the stability of the dashboard in the case of a large dataset (but the daily balances dashboard is created for the whole dataset).\n"
      ]
    },
    {
      "cell_type": "code",
      "metadata": {
        "colab": {
          "base_uri": "https://localhost:8080/",
          "height": 68
        },
        "id": "kTJb5QcGgbbZ",
        "outputId": "a60e66b2-1217-4400-ca9e-98342bd7869b"
      },
      "source": [
        "def check_closed(acc_id):\n",
        "  return 'closed' if datetime.date.fromisoformat(df_accounts[df_accounts.id==acc_id].iloc[0,2])<=datetime.date.today()-datetime.timedelta(days=1) else 'open'\n",
        "def build_table_list(acc_id):\n",
        "  df1 = tables_transactions[acc_id][tables_transactions[acc_id]['amt']>=0].tail(100)\n",
        "  df2 = tables_transactions[acc_id][tables_transactions[acc_id]['amt']<=0].tail(100)\n",
        "  df3 = tables_transactions[acc_id].tail(100)\n",
        "  return ([dp.DataTable(df1,label='Incomes',caption='The last 100 transactions executed on Account '+str(acc_id)),\n",
        "           dp.DataTable(df2,label='Outcomes',caption='The last 100 transactions executed on Account '+str(acc_id)),\n",
        "           dp.DataTable(df3,label='Incomes and Outcomes',caption='The last 100 transactions executed on Account '+str(acc_id))]) \n",
        "account_list = list(main_dash.keys())\n",
        "plt.figure(figsize=(10, 5), dpi=300)\n",
        "plot_list = ([dp.Group(blocks=['### Open date: '+df_accounts[df_accounts.id==acc_id].iloc[0,1] + ', Close date: '+df_accounts[df_accounts.id==acc_id].iloc[0,2]+', State: '+check_closed(acc_id),\n",
        "                               '### Initial balance: '+ str(round(main_dash[acc_id].iloc[0,1],2)) + ', Final balance: '+str(round(main_dash[acc_id].iloc[main_dash[acc_id].index[-1],1],2)),                             \n",
        "                               dp.Plot(generate_plot_go(acc_id), label='Account '+str(acc_id))],columns=1,label='Account '+str(acc_id)) for acc_id in account_list])\n",
        "\n",
        "table_list = ([dp.Group(blocks=[\"### Daily balances for Account \"+str(acc_id), \n",
        "                                '### Open date: '+df_accounts[df_accounts.id==acc_id].iloc[0,1] + ', Close date: '+df_accounts[df_accounts.id==acc_id].iloc[0,2]+', State: '+check_closed(acc_id),\n",
        "                                '### Initial balance: '+ str(round(main_dash[acc_id].iloc[0,1],2)) + ', Final balance: '+str(round(main_dash[acc_id].iloc[main_dash[acc_id].index[-1],1],2)),\n",
        "                                dp.Group(blocks=[dp.Group(blocks=['###   ','###   ','###   ',dp.DataTable(main_dash[acc_id], caption='Daily balances for Account '+str(acc_id),label='Account '+str(acc_id))]),\n",
        "                                                 dp.Select(blocks=build_table_list(acc_id))],columns=2,label='Account '+str(acc_id) )],\n",
        "                        columns=1,label='Account '+str(acc_id))  for acc_id in account_list])        \n",
        "g1 = dp.Group(blocks = ['### Accounts table', df_accounts.tail(100)],columns=1,label='Accounts')\n",
        "g2 = dp.Group(blocks = ['### Dates table',df_dates.tail(100)],columns=1,label='Dates')\n",
        "g3 = dp.Group(blocks = ['### Transactions table',df_transactions.tail(100)],columns=1,label='Transactions')\n",
        "total_table_list = ([g1,g2,g3])        \n",
        "tables = dp.Select(blocks = table_list)\n",
        "plots = dp.Select(blocks = plot_list)\n",
        "total_tables = dp.Select(blocks = total_table_list)\n",
        "\n",
        "dp.Report(dp.Page(\n",
        "    title=\"Tables Dashboard\",\n",
        "    blocks=[\"### Table Views\", tables]\n",
        "  ),\n",
        "  dp.Page(\n",
        "    title=\"Plot Dashboard\",\n",
        "    blocks=[\"### Graphical Dashboard\", plots]\n",
        "  ),\n",
        "  dp.Page(\n",
        "    title=\"Full Tables\",\n",
        "    blocks=[\"### Original database (only the last 100 records are displayed)\", total_tables]\n",
        "  )\n",
        "  ).upload(name='Daily dashboards', description='Daily dashboards for each account',formatting=dp.ReportFormatting(width=dp.ReportWidth.FULL))"
      ],
      "execution_count": 53,
      "outputs": [
        {
          "output_type": "stream",
          "name": "stdout",
          "text": [
            "Uploading report and associated data - *please wait...*\n",
            "Report successfully uploaded at https://datapane.com/u/maratsmuk/reports/VkGygN3/daily-dashboards/, follow the link to view and share your report.\n"
          ]
        },
        {
          "output_type": "display_data",
          "data": {
            "text/plain": [
              "<Figure size 3000x1500 with 0 Axes>"
            ]
          },
          "metadata": {}
        }
      ]
    },
    {
      "cell_type": "code",
      "metadata": {
        "id": "AyAbazc7qcBW"
      },
      "source": [
        ""
      ],
      "execution_count": null,
      "outputs": []
    },
    {
      "cell_type": "code",
      "metadata": {
        "id": "uuYqXIiet555"
      },
      "source": [
        ""
      ],
      "execution_count": null,
      "outputs": []
    }
  ]
}