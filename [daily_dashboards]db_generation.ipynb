{
  "nbformat": 4,
  "nbformat_minor": 0,
  "metadata": {
    "colab": {
      "name": "[daily_dashboards]db_generation.ipynb",
      "provenance": [],
      "collapsed_sections": [],
      "authorship_tag": "ABX9TyNiNBRr2feeH4KC5bJTBdI6",
      "include_colab_link": true
    },
    "kernelspec": {
      "name": "python3",
      "display_name": "Python 3"
    },
    "language_info": {
      "name": "python"
    }
  },
  "cells": [
    {
      "cell_type": "markdown",
      "metadata": {
        "id": "view-in-github",
        "colab_type": "text"
      },
      "source": [
        "<a href=\"https://colab.research.google.com/github/maratsmuk/daily_dashboards/blob/main/%5Bdaily_dashboards%5Ddb_generation.ipynb\" target=\"_parent\"><img src=\"https://colab.research.google.com/assets/colab-badge.svg\" alt=\"Open In Colab\"/></a>"
      ]
    },
    {
      "cell_type": "markdown",
      "metadata": {
        "id": "AnYFqDcH2ERi"
      },
      "source": [
        "# Generation of a test database for interactive dashboards embedded in banking systems \n",
        "## Created by M.S. Mukhametzhanov\n",
        "### Result of this notebook: a database with the following tables: \n",
        "1. Accounts(id UNSIGNED INT PK, open_dt DATE NOT NULL, close_dt DATE NOT NULL)\n",
        "2. Dates(dt DATE PK)\n",
        "3. Transactions(id UNSIGNED INT PK, account_id UNSIGNED INT NOT NULL, dttm DATETIME NOT NULL, amt FLOAT)"
      ]
    },
    {
      "cell_type": "markdown",
      "metadata": {
        "id": "FIiokRAR3tE6"
      },
      "source": [
        "Connection of Google Drive for storing the DB."
      ]
    },
    {
      "cell_type": "code",
      "metadata": {
        "colab": {
          "base_uri": "https://localhost:8080/"
        },
        "id": "wXowsRE6IuQf",
        "outputId": "4839c5b0-a0b7-4777-d5a0-5da0ffcdcfab"
      },
      "source": [
        "from google.colab import drive\n",
        "drive.mount('/content/drive')\n",
        "!ls drive/MyDrive/daily_dashboards"
      ],
      "execution_count": 1,
      "outputs": [
        {
          "output_type": "stream",
          "name": "stdout",
          "text": [
            "Mounted at /content/drive\n",
            " accounts.csv\t\t\t\t\t  dates.csv\n",
            "'[daily_dashboards]db_generation.ipynb'\t\t  DB_accounts.db\n",
            "'[daily_dashboards]interactive_dashboard.ipynb'   transactions.csv\n",
            " datapane.yaml\n"
          ]
        }
      ]
    },
    {
      "cell_type": "markdown",
      "metadata": {
        "id": "i18qJG_q34Wu"
      },
      "source": [
        "Importing necessary libraries:"
      ]
    },
    {
      "cell_type": "code",
      "metadata": {
        "id": "leF7ALOP315P"
      },
      "source": [
        "import pandas as pd\n",
        "import datetime\n",
        "import random\n",
        "import sqlite3\n"
      ],
      "execution_count": 2,
      "outputs": []
    },
    {
      "cell_type": "markdown",
      "metadata": {
        "id": "4f2L6QQx38ni"
      },
      "source": [
        "Generation of the Dates table (randomly from 2010/01/01 to 2023/12/31, dimension of this table can be manually increased):"
      ]
    },
    {
      "cell_type": "code",
      "metadata": {
        "colab": {
          "base_uri": "https://localhost:8080/",
          "height": 221
        },
        "id": "lYPFFctcKRAs",
        "outputId": "a7b0f579-d03e-47d6-cbdd-493f3a710447"
      },
      "source": [
        "df_dates = pd.DataFrame(columns = ['dt'])\n",
        "def random_date(start,end):\n",
        "  return start + datetime.timedelta(days=random.randint(0, int((end - start).days)))\n",
        "base = datetime.datetime(2010,1,1)\n",
        "end = datetime.datetime(2023,12,31)\n",
        "N_dates = 10000\n",
        "date_list = list(set([random_date(base,end) for x in range(N_dates)]))\n",
        "datenow = datetime.date.today()\n",
        "datenow = datetime.datetime(datenow.year,datenow.month,datenow.day)\n",
        "if datenow not in date_list:\n",
        "  date_list.append(datenow)\n",
        "date_list.sort()\n",
        "df_dates['dt'] = date_list\n",
        "print(df_dates.shape)\n",
        "df_dates.head()"
      ],
      "execution_count": 3,
      "outputs": [
        {
          "output_type": "stream",
          "name": "stdout",
          "text": [
            "(4371, 1)\n"
          ]
        },
        {
          "output_type": "execute_result",
          "data": {
            "text/html": [
              "<div>\n",
              "<style scoped>\n",
              "    .dataframe tbody tr th:only-of-type {\n",
              "        vertical-align: middle;\n",
              "    }\n",
              "\n",
              "    .dataframe tbody tr th {\n",
              "        vertical-align: top;\n",
              "    }\n",
              "\n",
              "    .dataframe thead th {\n",
              "        text-align: right;\n",
              "    }\n",
              "</style>\n",
              "<table border=\"1\" class=\"dataframe\">\n",
              "  <thead>\n",
              "    <tr style=\"text-align: right;\">\n",
              "      <th></th>\n",
              "      <th>dt</th>\n",
              "    </tr>\n",
              "  </thead>\n",
              "  <tbody>\n",
              "    <tr>\n",
              "      <th>0</th>\n",
              "      <td>2010-01-01</td>\n",
              "    </tr>\n",
              "    <tr>\n",
              "      <th>1</th>\n",
              "      <td>2010-01-02</td>\n",
              "    </tr>\n",
              "    <tr>\n",
              "      <th>2</th>\n",
              "      <td>2010-01-04</td>\n",
              "    </tr>\n",
              "    <tr>\n",
              "      <th>3</th>\n",
              "      <td>2010-01-05</td>\n",
              "    </tr>\n",
              "    <tr>\n",
              "      <th>4</th>\n",
              "      <td>2010-01-06</td>\n",
              "    </tr>\n",
              "  </tbody>\n",
              "</table>\n",
              "</div>"
            ],
            "text/plain": [
              "          dt\n",
              "0 2010-01-01\n",
              "1 2010-01-02\n",
              "2 2010-01-04\n",
              "3 2010-01-05\n",
              "4 2010-01-06"
            ]
          },
          "metadata": {},
          "execution_count": 3
        }
      ]
    },
    {
      "cell_type": "markdown",
      "metadata": {
        "id": "Payc5qlh4JD_"
      },
      "source": [
        "Generation of the Accounts table randomly (open_dt and close_dt are chosen randomly from the Dates table, N_accounts can be modified manually):"
      ]
    },
    {
      "cell_type": "code",
      "metadata": {
        "colab": {
          "base_uri": "https://localhost:8080/",
          "height": 204
        },
        "id": "m3DBkaeOCH__",
        "outputId": "efeaf0a3-8997-4df1-978a-46ca58a40536"
      },
      "source": [
        "N_accounts = 10\n",
        "accounts = []\n",
        "for id in range(1,N_accounts+1):\n",
        "  date_open_i = random.randint(0,len(date_list))\n",
        "  while date_list[date_open_i]>=datetime.datetime.utcnow():\n",
        "    date_open_i = random.randint(0,date_open_i)\n",
        "  date_close_i = min(len(date_list)-1,date_open_i+random.randint(1,len(date_list)-date_open_i))\n",
        "  accounts.append([id,date_list[date_open_i],date_list[date_close_i]])\n",
        "df_accounts = pd.DataFrame(accounts)\n",
        "df_accounts.rename(columns={0:'id',1:'open_dt',2:'close_dt'},inplace=True)\n",
        "#df_accounts.set_index('id',drop=True,inplace=True)\n",
        "df_accounts.head()"
      ],
      "execution_count": 4,
      "outputs": [
        {
          "output_type": "execute_result",
          "data": {
            "text/html": [
              "<div>\n",
              "<style scoped>\n",
              "    .dataframe tbody tr th:only-of-type {\n",
              "        vertical-align: middle;\n",
              "    }\n",
              "\n",
              "    .dataframe tbody tr th {\n",
              "        vertical-align: top;\n",
              "    }\n",
              "\n",
              "    .dataframe thead th {\n",
              "        text-align: right;\n",
              "    }\n",
              "</style>\n",
              "<table border=\"1\" class=\"dataframe\">\n",
              "  <thead>\n",
              "    <tr style=\"text-align: right;\">\n",
              "      <th></th>\n",
              "      <th>id</th>\n",
              "      <th>open_dt</th>\n",
              "      <th>close_dt</th>\n",
              "    </tr>\n",
              "  </thead>\n",
              "  <tbody>\n",
              "    <tr>\n",
              "      <th>0</th>\n",
              "      <td>1</td>\n",
              "      <td>2016-05-31</td>\n",
              "      <td>2023-03-24</td>\n",
              "    </tr>\n",
              "    <tr>\n",
              "      <th>1</th>\n",
              "      <td>2</td>\n",
              "      <td>2020-03-18</td>\n",
              "      <td>2022-08-01</td>\n",
              "    </tr>\n",
              "    <tr>\n",
              "      <th>2</th>\n",
              "      <td>3</td>\n",
              "      <td>2011-06-25</td>\n",
              "      <td>2013-03-21</td>\n",
              "    </tr>\n",
              "    <tr>\n",
              "      <th>3</th>\n",
              "      <td>4</td>\n",
              "      <td>2019-07-06</td>\n",
              "      <td>2019-08-22</td>\n",
              "    </tr>\n",
              "    <tr>\n",
              "      <th>4</th>\n",
              "      <td>5</td>\n",
              "      <td>2015-04-20</td>\n",
              "      <td>2023-02-02</td>\n",
              "    </tr>\n",
              "  </tbody>\n",
              "</table>\n",
              "</div>"
            ],
            "text/plain": [
              "   id    open_dt   close_dt\n",
              "0   1 2016-05-31 2023-03-24\n",
              "1   2 2020-03-18 2022-08-01\n",
              "2   3 2011-06-25 2013-03-21\n",
              "3   4 2019-07-06 2019-08-22\n",
              "4   5 2015-04-20 2023-02-02"
            ]
          },
          "metadata": {},
          "execution_count": 4
        }
      ]
    },
    {
      "cell_type": "markdown",
      "metadata": {
        "id": "Gz-7D0nt4gVD"
      },
      "source": [
        "Generation of the Transactions table (accounts are chosen randomly from Accounts, dates are chosen randomly from Dates between open_dt and min(close_dt, today), amount is assigned randomly between -1000 and 1000). N_transactions can be chosen manually. Random hour-minute-second is added to the dates of the transactions.  "
      ]
    },
    {
      "cell_type": "code",
      "metadata": {
        "colab": {
          "base_uri": "https://localhost:8080/",
          "height": 204
        },
        "id": "m-oLfdun4qtt",
        "outputId": "0e0ca509-ad3b-4b76-e143-d6e0191b8943"
      },
      "source": [
        "N_transactions = 1000\n",
        "#df_transactions = pd.DataFrame(columns=['id','account_id','dttm','amt'])\n",
        "transactions = []\n",
        "for id in range(1,N_transactions+1):\n",
        "  account_id = random.randint(df_accounts.id.min(),df_accounts.id.max())\n",
        "  dttm_min = df_accounts[df_accounts['id']==account_id].iloc[0,1]\n",
        "  dttm_max = min(df_accounts[df_accounts['id']==account_id].iloc[0,2],datenow)\n",
        "  amt = round(random.uniform(-1000,1000),2)\n",
        "  if date_list.index(dttm_min)+1 >= date_list.index(dttm_max)-1:\n",
        "    dttm = date_list[date_list.index(dttm_min)]\n",
        "  else:\n",
        "    dttm = date_list[random.randint(date_list.index(dttm_min)+1,date_list.index(dttm_max)-1)]+datetime.timedelta(seconds = random.randint(0,86400))\n",
        "  #transactions.append([id,account_id,dttm_min,dttm,dttm_max,amt])\n",
        "  transactions.append([id,account_id,dttm,amt])\n",
        "df_transactions = pd.DataFrame(transactions)\n",
        "df_transactions.rename(columns={0:'id',1:'account_id',2:'dttm',3:'amt'},inplace=True)\n",
        "#df_transactions.set_index('id',drop=True,inplace=True)\n",
        "df_transactions.head()"
      ],
      "execution_count": 5,
      "outputs": [
        {
          "output_type": "execute_result",
          "data": {
            "text/html": [
              "<div>\n",
              "<style scoped>\n",
              "    .dataframe tbody tr th:only-of-type {\n",
              "        vertical-align: middle;\n",
              "    }\n",
              "\n",
              "    .dataframe tbody tr th {\n",
              "        vertical-align: top;\n",
              "    }\n",
              "\n",
              "    .dataframe thead th {\n",
              "        text-align: right;\n",
              "    }\n",
              "</style>\n",
              "<table border=\"1\" class=\"dataframe\">\n",
              "  <thead>\n",
              "    <tr style=\"text-align: right;\">\n",
              "      <th></th>\n",
              "      <th>id</th>\n",
              "      <th>account_id</th>\n",
              "      <th>dttm</th>\n",
              "      <th>amt</th>\n",
              "    </tr>\n",
              "  </thead>\n",
              "  <tbody>\n",
              "    <tr>\n",
              "      <th>0</th>\n",
              "      <td>1</td>\n",
              "      <td>7</td>\n",
              "      <td>2021-05-29 17:45:51</td>\n",
              "      <td>160.30</td>\n",
              "    </tr>\n",
              "    <tr>\n",
              "      <th>1</th>\n",
              "      <td>2</td>\n",
              "      <td>1</td>\n",
              "      <td>2018-11-03 05:08:54</td>\n",
              "      <td>-260.43</td>\n",
              "    </tr>\n",
              "    <tr>\n",
              "      <th>2</th>\n",
              "      <td>3</td>\n",
              "      <td>4</td>\n",
              "      <td>2019-08-11 15:06:23</td>\n",
              "      <td>-294.34</td>\n",
              "    </tr>\n",
              "    <tr>\n",
              "      <th>3</th>\n",
              "      <td>4</td>\n",
              "      <td>4</td>\n",
              "      <td>2019-08-13 21:04:09</td>\n",
              "      <td>195.38</td>\n",
              "    </tr>\n",
              "    <tr>\n",
              "      <th>4</th>\n",
              "      <td>5</td>\n",
              "      <td>7</td>\n",
              "      <td>2021-05-23 20:20:57</td>\n",
              "      <td>-288.46</td>\n",
              "    </tr>\n",
              "  </tbody>\n",
              "</table>\n",
              "</div>"
            ],
            "text/plain": [
              "   id  account_id                dttm     amt\n",
              "0   1           7 2021-05-29 17:45:51  160.30\n",
              "1   2           1 2018-11-03 05:08:54 -260.43\n",
              "2   3           4 2019-08-11 15:06:23 -294.34\n",
              "3   4           4 2019-08-13 21:04:09  195.38\n",
              "4   5           7 2021-05-23 20:20:57 -288.46"
            ]
          },
          "metadata": {},
          "execution_count": 5
        }
      ]
    },
    {
      "cell_type": "markdown",
      "metadata": {
        "id": "TjgMmR1m5ULE"
      },
      "source": [
        "(Non mandatory) Save the tables to csv-files"
      ]
    },
    {
      "cell_type": "code",
      "metadata": {
        "id": "CZ3LlscW46By"
      },
      "source": [
        "df_dates.to_csv('drive/MyDrive/daily_dashboards/dates.csv')\n",
        "df_accounts.to_csv('drive/MyDrive/daily_dashboards/accounts.csv')\n",
        "df_transactions.to_csv('drive/MyDrive/daily_dashboards/transactions.csv')"
      ],
      "execution_count": 6,
      "outputs": []
    },
    {
      "cell_type": "markdown",
      "metadata": {
        "id": "tZrswDJf5PN9"
      },
      "source": [
        "Open or create a new database DB_accounts.db. Drop the tables if they already exist:"
      ]
    },
    {
      "cell_type": "code",
      "metadata": {
        "id": "6WLEan2cNCR4"
      },
      "source": [
        "db_connection = sqlite3.connect('drive/MyDrive/daily_dashboards/DB_accounts.db')\n",
        "cursor = db_connection.cursor()\n",
        "cursor.execute('''drop table accounts''')\n",
        "cursor.execute('''drop table dates''')\n",
        "cursor.execute('''drop table transactions''')\n",
        "cursor.close()\n",
        "db_connection.commit()\n",
        "db_connection.close()"
      ],
      "execution_count": 7,
      "outputs": []
    },
    {
      "cell_type": "markdown",
      "metadata": {
        "id": "Xac6hKvR5htZ"
      },
      "source": [
        "Re-open the database and create the required tables with their parameters. Check the first 5 rows of each table in order to guarantee their correct generation. "
      ]
    },
    {
      "cell_type": "code",
      "metadata": {
        "id": "DF8O2RsqddMw",
        "colab": {
          "base_uri": "https://localhost:8080/"
        },
        "outputId": "19fe3907-a639-4f82-dc9c-3401e3ea7650"
      },
      "source": [
        "db_connection = sqlite3.connect('drive/MyDrive/daily_dashboards/DB_accounts.db')\n",
        "cursor = db_connection.cursor()\n",
        "cursor.execute('''CREATE TABLE IF NOT EXISTS accounts\n",
        "              (id UNSIGNED INT PRIMARY KEY, open_dt DATE NOT NULL, close_dt DATE NOT NULL)''')\n",
        "for t in zip(df_accounts['id'],df_accounts['open_dt'],df_accounts['close_dt']):\n",
        " cursor.execute('''insert into accounts values (?, ?, ?)''',(t[0],t[1].date(),t[2].date()))\n",
        "db_connection.commit()\n",
        "cursor.close()\n",
        "cursor = db_connection.cursor()\n",
        "cursor.execute('''CREATE TABLE IF NOT EXISTS dates\n",
        "              (dt DATE PRIMARY KEY)''')\n",
        "\n",
        "for t in df_dates['dt']:\n",
        "  cursor.execute('''insert into dates values (?)''',(t.date(),))\n",
        "db_connection.commit()\n",
        "cursor.close()\n",
        "\n",
        "cursor = db_connection.cursor()\n",
        "cursor.execute('''CREATE TABLE IF NOT EXISTS transactions\n",
        "              (id UNSIGNED INT PRIMARY KEY, account_id UNSIGNED INT NOT NULL, dttm DATETIME NOT NULL, amt FLOAT(8,2))''')\n",
        "for t in zip(df_transactions['id'],df_transactions['account_id'],df_transactions['dttm'],df_transactions['amt']):\n",
        "  cursor.execute('''insert into transactions values (?, ?, ?, ?)''',(t[0],t[1],str(t[2]),t[3]))\n",
        "db_connection.commit()\n",
        "cursor.close()\n",
        "\n",
        "cursor = db_connection.cursor()\n",
        "cursor.execute('''select * from accounts limit 5''')\n",
        "print(cursor.fetchall())\n",
        "cursor.execute('''select * from dates limit 5''')\n",
        "print(cursor.fetchall())\n",
        "cursor.execute('''select * from transactions limit 5''')\n",
        "print(cursor.fetchall())\n",
        "db_connection.close()\n"
      ],
      "execution_count": 8,
      "outputs": [
        {
          "output_type": "stream",
          "name": "stdout",
          "text": [
            "[(1, '2016-05-31', '2023-03-24'), (2, '2020-03-18', '2022-08-01'), (3, '2011-06-25', '2013-03-21'), (4, '2019-07-06', '2019-08-22'), (5, '2015-04-20', '2023-02-02')]\n",
            "[('2010-01-01',), ('2010-01-02',), ('2010-01-04',), ('2010-01-05',), ('2010-01-06',)]\n",
            "[(1, 7, '2021-05-29 17:45:51', 160.3), (2, 1, '2018-11-03 05:08:54', -260.43), (3, 4, '2019-08-11 15:06:23', -294.34), (4, 4, '2019-08-13 21:04:09', 195.38), (5, 7, '2021-05-23 20:20:57', -288.46)]\n"
          ]
        }
      ]
    },
    {
      "cell_type": "markdown",
      "metadata": {
        "id": "x-jBHiKh55mH"
      },
      "source": [
        "# The database has been generated!"
      ]
    },
    {
      "cell_type": "code",
      "metadata": {
        "id": "2GH7wpOb58ez"
      },
      "source": [
        ""
      ],
      "execution_count": 8,
      "outputs": []
    }
  ]
}